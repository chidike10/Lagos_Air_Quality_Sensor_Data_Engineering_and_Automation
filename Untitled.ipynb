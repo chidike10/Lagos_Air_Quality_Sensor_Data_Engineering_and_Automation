{
 "cells": [
  {
   "cell_type": "markdown",
   "id": "37a58d61-e344-4b10-ada7-adfe7d775db0",
   "metadata": {},
   "source": [
    "# Lagos Air Quality Sensor Data Engineering and Process Auntomation"
   ]
  },
  {
   "cell_type": "markdown",
   "id": "09d689a8-2760-45cc-954b-3c9ef528748b",
   "metadata": {},
   "source": [
    "## Open Africa Lagos Data Disoveries\n",
    "\n",
    "- Original Dataframe is a single column with all column names joined together (separated by semicolon) to form a single index column\n",
    "- Dataframe headers (column names) datatypes changed to `tuple` after being separated alongside their corresponding values, to form individual column names within the dataframe.\n",
    "- All data collected are of object datatypes\n",
    "- "
   ]
  },
  {
   "cell_type": "code",
   "execution_count": 19,
   "id": "095efc77-6129-410b-8336-8c3cfb3a58d1",
   "metadata": {},
   "outputs": [],
   "source": [
    "import pandas as pd\n",
    "import matplotlib.pyplot as plt\n",
    "from datetime import datetime\n",
    "from glob import glob"
   ]
  },
  {
   "cell_type": "code",
   "execution_count": 20,
   "id": "20d4373c-ecba-451a-9772-9593fa0751f3",
   "metadata": {},
   "outputs": [
    {
     "data": {
      "text/html": [
       "<div>\n",
       "<style scoped>\n",
       "    .dataframe tbody tr th:only-of-type {\n",
       "        vertical-align: middle;\n",
       "    }\n",
       "\n",
       "    .dataframe tbody tr th {\n",
       "        vertical-align: top;\n",
       "    }\n",
       "\n",
       "    .dataframe thead th {\n",
       "        text-align: right;\n",
       "    }\n",
       "</style>\n",
       "<table border=\"1\" class=\"dataframe\">\n",
       "  <thead>\n",
       "    <tr style=\"text-align: right;\">\n",
       "      <th></th>\n",
       "      <th>sensor_id;sensor_type;location;lat;lon;timestamp;value_type;value</th>\n",
       "    </tr>\n",
       "  </thead>\n",
       "  <tbody>\n",
       "    <tr>\n",
       "      <th>0</th>\n",
       "      <td>4856;DHT22;3629;6.428;3.435;2023-11-01T16:44:1...</td>\n",
       "    </tr>\n",
       "    <tr>\n",
       "      <th>1</th>\n",
       "      <td>4856;DHT22;3629;6.428;3.435;2023-11-01T16:44:1...</td>\n",
       "    </tr>\n",
       "    <tr>\n",
       "      <th>2</th>\n",
       "      <td>4855;pms5003;3629;6.428;3.435;2023-11-01T16:44...</td>\n",
       "    </tr>\n",
       "    <tr>\n",
       "      <th>3</th>\n",
       "      <td>4855;pms5003;3629;6.428;3.435;2023-11-01T16:44...</td>\n",
       "    </tr>\n",
       "    <tr>\n",
       "      <th>4</th>\n",
       "      <td>4855;pms5003;3629;6.428;3.435;2023-11-01T16:44...</td>\n",
       "    </tr>\n",
       "  </tbody>\n",
       "</table>\n",
       "</div>"
      ],
      "text/plain": [
       "  sensor_id;sensor_type;location;lat;lon;timestamp;value_type;value\n",
       "0  4856;DHT22;3629;6.428;3.435;2023-11-01T16:44:1...               \n",
       "1  4856;DHT22;3629;6.428;3.435;2023-11-01T16:44:1...               \n",
       "2  4855;pms5003;3629;6.428;3.435;2023-11-01T16:44...               \n",
       "3  4855;pms5003;3629;6.428;3.435;2023-11-01T16:44...               \n",
       "4  4855;pms5003;3629;6.428;3.435;2023-11-01T16:44...               "
      ]
     },
     "execution_count": 20,
     "metadata": {},
     "output_type": "execute_result"
    }
   ],
   "source": [
    "datanov23 = pd.read_csv(\"./data/lagos_air_quality_2023nov.csv\")\n",
    "datanov23.head()"
   ]
  },
  {
   "cell_type": "code",
   "execution_count": 21,
   "id": "7a9114d7-6d81-4cf5-adc7-439979cc2625",
   "metadata": {},
   "outputs": [
    {
     "name": "stdout",
     "output_type": "stream",
     "text": [
      "<class 'pandas.core.indexes.base.Index'>\n"
     ]
    }
   ],
   "source": [
    "# Checking datatype of the DataFrame columns\n",
    "print(type(datanov23.columns))"
   ]
  },
  {
   "cell_type": "code",
   "execution_count": 22,
   "id": "4a06033a-0f5c-4748-8be9-328ec21669c4",
   "metadata": {},
   "outputs": [
    {
     "name": "stdout",
     "output_type": "stream",
     "text": [
      "<class 'pandas.core.frame.DataFrame'>\n",
      "RangeIndex: 1210 entries, 0 to 1209\n",
      "Data columns (total 1 columns):\n",
      " #   Column                                                             Non-Null Count  Dtype \n",
      "---  ------                                                             --------------  ----- \n",
      " 0   sensor_id;sensor_type;location;lat;lon;timestamp;value_type;value  1210 non-null   object\n",
      "dtypes: object(1)\n",
      "memory usage: 9.6+ KB\n"
     ]
    }
   ],
   "source": [
    "# Reading information about the raw sensor data \n",
    "datanov23.info()"
   ]
  },
  {
   "cell_type": "code",
   "execution_count": 27,
   "id": "561b81bc-0a8e-4660-8efd-35f3f72d15fc",
   "metadata": {},
   "outputs": [
    {
     "data": {
      "text/plain": [
       "Index([['sensor_id', 'sensor_type', 'location', 'lat', 'lon', 'timestamp', 'value_type', 'value']], dtype='object')"
      ]
     },
     "execution_count": 27,
     "metadata": {},
     "output_type": "execute_result"
    }
   ],
   "source": [
    "# Separating the column names and assigning to a variable columns\n",
    "columns = datanov23.columns.str.split(\";\")\n",
    "columns"
   ]
  },
  {
   "cell_type": "code",
   "execution_count": 33,
   "id": "15eaec2d-ec41-4941-8909-eb2b703ed1eb",
   "metadata": {},
   "outputs": [
    {
     "data": {
      "text/plain": [
       "pandas.core.indexes.base.Index"
      ]
     },
     "execution_count": 33,
     "metadata": {},
     "output_type": "execute_result"
    }
   ],
   "source": [
    "type(columns)"
   ]
  },
  {
   "cell_type": "code",
   "execution_count": 35,
   "id": "78f2d101-8051-4a82-aecc-420064862f2a",
   "metadata": {},
   "outputs": [
    {
     "data": {
      "text/plain": [
       "['sensor_id',\n",
       " 'sensor_type',\n",
       " 'location',\n",
       " 'lat',\n",
       " 'lon',\n",
       " 'timestamp',\n",
       " 'value_type',\n",
       " 'value']"
      ]
     },
     "execution_count": 35,
     "metadata": {},
     "output_type": "execute_result"
    }
   ],
   "source": [
    "columns = list(columns[0])\n",
    "columns"
   ]
  },
  {
   "cell_type": "code",
   "execution_count": 37,
   "id": "8242f640-a061-4114-ac27-99c0b3cdb239",
   "metadata": {},
   "outputs": [
    {
     "data": {
      "text/plain": [
       "['sensor_id',\n",
       " 'sensor_type',\n",
       " 'location',\n",
       " 'lat',\n",
       " 'lon',\n",
       " 'timestamp',\n",
       " 'value_type',\n",
       " 'value']"
      ]
     },
     "execution_count": 37,
     "metadata": {},
     "output_type": "execute_result"
    }
   ],
   "source": [
    "columns = [str(items) for items in columns]\n",
    "columns"
   ]
  },
  {
   "cell_type": "code",
   "execution_count": 38,
   "id": "d2dacec3-06bc-4e28-9063-b303bdf689c4",
   "metadata": {},
   "outputs": [
    {
     "name": "stdout",
     "output_type": "stream",
     "text": [
      "<class 'str'>\n"
     ]
    }
   ],
   "source": [
    "print(type(columns[0]))"
   ]
  },
  {
   "cell_type": "code",
   "execution_count": 39,
   "id": "122c12b3-e7ab-4518-8811-0dc4b7df5940",
   "metadata": {},
   "outputs": [],
   "source": [
    "data = []\n",
    "for row in datanov23[\"sensor_id;sensor_type;location;lat;lon;timestamp;value_type;value\"]:\n",
    "    data.append(row.split(\";\"))"
   ]
  },
  {
   "cell_type": "code",
   "execution_count": 40,
   "id": "39e05405-375b-4ccc-83b9-5a894e43a174",
   "metadata": {},
   "outputs": [
    {
     "data": {
      "text/html": [
       "<div>\n",
       "<style scoped>\n",
       "    .dataframe tbody tr th:only-of-type {\n",
       "        vertical-align: middle;\n",
       "    }\n",
       "\n",
       "    .dataframe tbody tr th {\n",
       "        vertical-align: top;\n",
       "    }\n",
       "\n",
       "    .dataframe thead th {\n",
       "        text-align: right;\n",
       "    }\n",
       "</style>\n",
       "<table border=\"1\" class=\"dataframe\">\n",
       "  <thead>\n",
       "    <tr style=\"text-align: right;\">\n",
       "      <th></th>\n",
       "      <th>sensor_id</th>\n",
       "      <th>sensor_type</th>\n",
       "      <th>location</th>\n",
       "      <th>lat</th>\n",
       "      <th>lon</th>\n",
       "      <th>timestamp</th>\n",
       "      <th>value_type</th>\n",
       "      <th>value</th>\n",
       "    </tr>\n",
       "  </thead>\n",
       "  <tbody>\n",
       "    <tr>\n",
       "      <th>0</th>\n",
       "      <td>4856</td>\n",
       "      <td>DHT22</td>\n",
       "      <td>3629</td>\n",
       "      <td>6.428</td>\n",
       "      <td>3.435</td>\n",
       "      <td>2023-11-01T16:44:12.409509+00:00</td>\n",
       "      <td>humidity</td>\n",
       "      <td>82.60</td>\n",
       "    </tr>\n",
       "    <tr>\n",
       "      <th>1</th>\n",
       "      <td>4856</td>\n",
       "      <td>DHT22</td>\n",
       "      <td>3629</td>\n",
       "      <td>6.428</td>\n",
       "      <td>3.435</td>\n",
       "      <td>2023-11-01T16:44:12.409509+00:00</td>\n",
       "      <td>temperature</td>\n",
       "      <td>29.40</td>\n",
       "    </tr>\n",
       "    <tr>\n",
       "      <th>2</th>\n",
       "      <td>4855</td>\n",
       "      <td>pms5003</td>\n",
       "      <td>3629</td>\n",
       "      <td>6.428</td>\n",
       "      <td>3.435</td>\n",
       "      <td>2023-11-01T16:44:52.764459+00:00</td>\n",
       "      <td>P2</td>\n",
       "      <td>19.00</td>\n",
       "    </tr>\n",
       "    <tr>\n",
       "      <th>3</th>\n",
       "      <td>4855</td>\n",
       "      <td>pms5003</td>\n",
       "      <td>3629</td>\n",
       "      <td>6.428</td>\n",
       "      <td>3.435</td>\n",
       "      <td>2023-11-01T16:44:52.764459+00:00</td>\n",
       "      <td>P1</td>\n",
       "      <td>25.00</td>\n",
       "    </tr>\n",
       "    <tr>\n",
       "      <th>4</th>\n",
       "      <td>4855</td>\n",
       "      <td>pms5003</td>\n",
       "      <td>3629</td>\n",
       "      <td>6.428</td>\n",
       "      <td>3.435</td>\n",
       "      <td>2023-11-01T16:44:52.764459+00:00</td>\n",
       "      <td>P0</td>\n",
       "      <td>14.00</td>\n",
       "    </tr>\n",
       "  </tbody>\n",
       "</table>\n",
       "</div>"
      ],
      "text/plain": [
       "  sensor_id sensor_type location    lat    lon  \\\n",
       "0      4856       DHT22     3629  6.428  3.435   \n",
       "1      4856       DHT22     3629  6.428  3.435   \n",
       "2      4855     pms5003     3629  6.428  3.435   \n",
       "3      4855     pms5003     3629  6.428  3.435   \n",
       "4      4855     pms5003     3629  6.428  3.435   \n",
       "\n",
       "                          timestamp   value_type  value  \n",
       "0  2023-11-01T16:44:12.409509+00:00     humidity  82.60  \n",
       "1  2023-11-01T16:44:12.409509+00:00  temperature  29.40  \n",
       "2  2023-11-01T16:44:52.764459+00:00           P2  19.00  \n",
       "3  2023-11-01T16:44:52.764459+00:00           P1  25.00  \n",
       "4  2023-11-01T16:44:52.764459+00:00           P0  14.00  "
      ]
     },
     "execution_count": 40,
     "metadata": {},
     "output_type": "execute_result"
    }
   ],
   "source": [
    "lag_nov23 = pd.DataFrame(data, columns=columns)\n",
    "lag_nov23.head()"
   ]
  },
  {
   "cell_type": "code",
   "execution_count": 41,
   "id": "d9796696-f319-442e-82d5-a0133d2cef52",
   "metadata": {},
   "outputs": [
    {
     "name": "stdout",
     "output_type": "stream",
     "text": [
      "<class 'pandas.core.frame.DataFrame'>\n",
      "RangeIndex: 1210 entries, 0 to 1209\n",
      "Data columns (total 8 columns):\n",
      " #   Column       Non-Null Count  Dtype \n",
      "---  ------       --------------  ----- \n",
      " 0   sensor_id    1210 non-null   object\n",
      " 1   sensor_type  1210 non-null   object\n",
      " 2   location     1210 non-null   object\n",
      " 3   lat          1210 non-null   object\n",
      " 4   lon          1210 non-null   object\n",
      " 5   timestamp    1210 non-null   object\n",
      " 6   value_type   1210 non-null   object\n",
      " 7   value        1210 non-null   object\n",
      "dtypes: object(8)\n",
      "memory usage: 75.8+ KB\n"
     ]
    }
   ],
   "source": [
    "lag_nov23.info()"
   ]
  },
  {
   "cell_type": "markdown",
   "id": "f4913cc7-a5d3-4fc0-9238-69782a36dc25",
   "metadata": {},
   "source": [
    "### Convert all columns into the right datatype for all captured sensor data"
   ]
  },
  {
   "cell_type": "code",
   "execution_count": 43,
   "id": "129b499b-7678-4d36-ba03-802dd2a9affb",
   "metadata": {},
   "outputs": [
    {
     "data": {
      "text/plain": [
       "array(['4856', '4855', '4857', '4858', '4853', '4854'], dtype=object)"
      ]
     },
     "execution_count": 43,
     "metadata": {},
     "output_type": "execute_result"
    }
   ],
   "source": [
    "lag_nov23[\"sensor_id\"].unique()"
   ]
  },
  {
   "cell_type": "code",
   "execution_count": 44,
   "id": "6b40ae35-c258-4268-ae1b-0fc99bd54a4d",
   "metadata": {},
   "outputs": [
    {
     "data": {
      "text/plain": [
       "array(['DHT22', 'pms5003'], dtype=object)"
      ]
     },
     "execution_count": 44,
     "metadata": {},
     "output_type": "execute_result"
    }
   ],
   "source": [
    "lag_nov23[\"sensor_type\"].unique()"
   ]
  },
  {
   "cell_type": "code",
   "execution_count": 45,
   "id": "3be4f677-cd82-44b1-a0d6-dc942ed569f0",
   "metadata": {},
   "outputs": [
    {
     "data": {
      "text/plain": [
       "array(['3629', '3630', '3628'], dtype=object)"
      ]
     },
     "execution_count": 45,
     "metadata": {},
     "output_type": "execute_result"
    }
   ],
   "source": [
    "lag_nov23[\"location\"].unique()"
   ]
  },
  {
   "cell_type": "code",
   "execution_count": 46,
   "id": "f9f0673e-95fa-4a5f-b91b-ea50ea18e479",
   "metadata": {},
   "outputs": [
    {
     "data": {
      "text/plain": [
       "array(['82.60', '29.40', '19.00', '25.00', '14.00', '80.30', '29.70',\n",
       "       '3.50', '4.25', '2.50'], dtype=object)"
      ]
     },
     "execution_count": 46,
     "metadata": {},
     "output_type": "execute_result"
    }
   ],
   "source": [
    "lag_nov23[\"value\"][:10].unique()"
   ]
  },
  {
   "cell_type": "code",
   "execution_count": 47,
   "id": "e706c3e7-acef-40ed-a020-0d6b19759ae6",
   "metadata": {},
   "outputs": [],
   "source": [
    "lag_nov23[\"sensor_id\"] = lag_nov23[\"sensor_id\"].astype(int)\n",
    "lag_nov23[\"location\"] = lag_nov23[\"location\"].astype(int)\n",
    "lag_nov23[\"lat\"] = lag_nov23[\"lat\"].astype(float)\n",
    "lag_nov23[\"lon\"] = lag_nov23[\"lon\"].astype(float)"
   ]
  },
  {
   "cell_type": "code",
   "execution_count": 48,
   "id": "14eca9c5-1d02-4b44-965d-7c443846597f",
   "metadata": {},
   "outputs": [],
   "source": [
    "lag_nov23[\"value\"] = lag_nov23[\"value\"].astype(float)"
   ]
  },
  {
   "cell_type": "code",
   "execution_count": 49,
   "id": "efbf6834-3a60-45d0-8af9-79973f80b9c9",
   "metadata": {},
   "outputs": [],
   "source": [
    "lag_nov23[\"timestamp\"] = lag_nov23['timestamp'].str.strip()"
   ]
  },
  {
   "cell_type": "code",
   "execution_count": 50,
   "id": "5109c0a0-a1ee-46ea-8f52-4136e9eb3fbb",
   "metadata": {},
   "outputs": [
    {
     "name": "stdout",
     "output_type": "stream",
     "text": [
      "Empty DataFrame\n",
      "Columns: [sensor_id, sensor_type, location, lat, lon, timestamp, value_type, value]\n",
      "Index: []\n"
     ]
    }
   ],
   "source": [
    "invalid_entries = lag_nov23[~lag_nov23['timestamp'].str.match(r'^\\d{4}-\\d{2}-\\d{2}T\\d{2}:\\d{2}:\\d{2}(\\.\\d+)?\\+\\d{2}:\\d{2}$')]\n",
    "print(invalid_entries)  # Display rows with invalid timestamps"
   ]
  },
  {
   "cell_type": "code",
   "execution_count": 51,
   "id": "cc559e00-7b6f-4e71-a0b5-9a7415c3ee1d",
   "metadata": {},
   "outputs": [
    {
     "name": "stdout",
     "output_type": "stream",
     "text": [
      "Empty DataFrame\n",
      "Columns: [sensor_id, sensor_type, location, lat, lon, timestamp, value_type, value]\n",
      "Index: []\n"
     ]
    }
   ],
   "source": [
    "# Convert to datetime\n",
    "lag_nov23['timestamp'] = pd.to_datetime(lag_nov23['timestamp'], errors='coerce')\n",
    "\n",
    "# Find rows with NaT values\n",
    "invalid_rows = lag_nov23[lag_nov23['timestamp'].isnull()]\n",
    "print(invalid_rows)"
   ]
  },
  {
   "cell_type": "code",
   "execution_count": 52,
   "id": "b8647438-8a96-4d1a-a0fa-8e2fb90a72d0",
   "metadata": {},
   "outputs": [
    {
     "data": {
      "text/plain": [
       "0"
      ]
     },
     "execution_count": 52,
     "metadata": {},
     "output_type": "execute_result"
    }
   ],
   "source": [
    "lag_nov23[\"timestamp\"].isnull().sum() # = pd.to_datetime(lag_nov23[\"timestamp\"])"
   ]
  },
  {
   "cell_type": "code",
   "execution_count": 53,
   "id": "f3a2e1f8-e6a3-4ffb-8b76-7159a14b24c9",
   "metadata": {},
   "outputs": [
    {
     "name": "stdout",
     "output_type": "stream",
     "text": [
      "<class 'pandas.core.frame.DataFrame'>\n",
      "RangeIndex: 1210 entries, 0 to 1209\n",
      "Data columns (total 8 columns):\n",
      " #   Column       Non-Null Count  Dtype              \n",
      "---  ------       --------------  -----              \n",
      " 0   sensor_id    1210 non-null   int32              \n",
      " 1   sensor_type  1210 non-null   object             \n",
      " 2   location     1210 non-null   int32              \n",
      " 3   lat          1210 non-null   float64            \n",
      " 4   lon          1210 non-null   float64            \n",
      " 5   timestamp    1210 non-null   datetime64[ns, UTC]\n",
      " 6   value_type   1210 non-null   object             \n",
      " 7   value        1210 non-null   float64            \n",
      "dtypes: datetime64[ns, UTC](1), float64(3), int32(2), object(2)\n",
      "memory usage: 66.3+ KB\n"
     ]
    }
   ],
   "source": [
    "lag_nov23.info()"
   ]
  },
  {
   "cell_type": "code",
   "execution_count": 54,
   "id": "10329c4b-6974-467d-baed-060f89ba774e",
   "metadata": {},
   "outputs": [
    {
     "data": {
      "text/plain": [
       "0      2023-11-01 16:44:12.409509+00:00\n",
       "1      2023-11-01 16:44:12.409509+00:00\n",
       "2      2023-11-01 16:44:52.764459+00:00\n",
       "3      2023-11-01 16:44:52.764459+00:00\n",
       "4      2023-11-01 16:44:52.764459+00:00\n",
       "                     ...               \n",
       "1205   2023-11-27 08:19:48.370122+00:00\n",
       "1206   2023-11-27 08:19:48.370122+00:00\n",
       "1207   2023-11-27 08:19:48.370122+00:00\n",
       "1208   2023-11-27 08:20:01.486262+00:00\n",
       "1209   2023-11-27 08:20:01.486262+00:00\n",
       "Name: timestamp, Length: 1210, dtype: datetime64[ns, UTC]"
      ]
     },
     "execution_count": 54,
     "metadata": {},
     "output_type": "execute_result"
    }
   ],
   "source": [
    "lag_nov23[\"timestamp\"]"
   ]
  },
  {
   "cell_type": "code",
   "execution_count": 55,
   "id": "01ae64b4-21bb-4dd2-8b3d-31058db71cc0",
   "metadata": {},
   "outputs": [
    {
     "name": "stdout",
     "output_type": "stream",
     "text": [
      "<class 'pandas.core.frame.DataFrame'>\n",
      "RangeIndex: 1210 entries, 0 to 1209\n",
      "Data columns (total 8 columns):\n",
      " #   Column       Non-Null Count  Dtype              \n",
      "---  ------       --------------  -----              \n",
      " 0   sensor_id    1210 non-null   int32              \n",
      " 1   sensor_type  1210 non-null   object             \n",
      " 2   location     1210 non-null   int32              \n",
      " 3   lat          1210 non-null   float64            \n",
      " 4   lon          1210 non-null   float64            \n",
      " 5   timestamp    1210 non-null   datetime64[ns, UTC]\n",
      " 6   value_type   1210 non-null   object             \n",
      " 7   value        1210 non-null   float64            \n",
      "dtypes: datetime64[ns, UTC](1), float64(3), int32(2), object(2)\n",
      "memory usage: 66.3+ KB\n",
      "None\n",
      "(1210, 8)\n"
     ]
    }
   ],
   "source": [
    "lag_nov23.head(10)\n",
    "print(lag_nov23.info())\n",
    "print(lag_nov23.shape)"
   ]
  },
  {
   "cell_type": "markdown",
   "id": "45f66c2c-1090-4cde-8a3d-8581aea9b01c",
   "metadata": {},
   "source": [
    "### Lagos Air Quality data engineering process automation\n",
    "\n",
    "The function below "
   ]
  },
  {
   "cell_type": "code",
   "execution_count": 57,
   "id": "2bf08304-34b4-49cc-9112-bb9c1db0d92c",
   "metadata": {},
   "outputs": [],
   "source": [
    "def lagos_air_quality_prep(data):\n",
    "    df = pd.read_csv(data)\n",
    "    columns = df.columns.str.split(\";\")\n",
    "    columns = list(columns[0])\n",
    "    columns = [str(items) for items in columns]\n",
    "    \n",
    "    lag_df = []\n",
    "    for row in df[\"sensor_id;sensor_type;location;lat;lon;timestamp;value_type;value\"]:\n",
    "        lag_df.append(row.split(\";\"))\n",
    "        \n",
    "    clean_df = pd.DataFrame(lag_df, columns=columns)\n",
    "    clean_df[\"sensor_id\"] = clean_df[\"sensor_id\"].astype(int)\n",
    "    clean_df[\"location\"] = clean_df[\"location\"].astype(int)\n",
    "    clean_df[\"lat\"] = clean_df[\"lat\"].astype(float)\n",
    "    clean_df[\"lon\"] = clean_df[\"lon\"].astype(float)\n",
    "    clean_df[\"value\"] = clean_df[\"value\"].astype(float)\n",
    "    clean_df[\"timestamp\"] = clean_df['timestamp'].str.strip()\n",
    "    # Convert to datetime\n",
    "    clean_df['timestamp'] = pd.to_datetime(clean_df['timestamp'], errors='coerce')\n",
    "\n",
    "    return clean_df"
   ]
  },
  {
   "cell_type": "markdown",
   "id": "2f6f7bc9-6397-47f7-bfcd-c58dc9d7e5e6",
   "metadata": {},
   "source": [
    "To achieve the multiple data import based on the pattern matching, we use the `glob` library already imported. The glob creates a list of all data in the folder that matches the name provided. Here we used `*` as a wildcard to get all."
   ]
  },
  {
   "cell_type": "code",
   "execution_count": 59,
   "id": "ea6a4142-26ad-43ed-b5c5-98207d4bda3b",
   "metadata": {},
   "outputs": [
    {
     "data": {
      "text/plain": [
       "['./data\\\\lagos_air_quality_2023dec.csv',\n",
       " './data\\\\lagos_air_quality_2023nov.csv',\n",
       " './data\\\\lagos_air_quality_2024feb.csv',\n",
       " './data\\\\lagos_air_quality_2024jan.csv',\n",
       " './data\\\\lagos_air_quality_2024mar.csv']"
      ]
     },
     "execution_count": 59,
     "metadata": {},
     "output_type": "execute_result"
    }
   ],
   "source": [
    "files = glob(\"./data/lagos_air_quality_20*.csv\")\n",
    "files"
   ]
  },
  {
   "cell_type": "markdown",
   "id": "b6bc1b28-345f-44c1-9e96-8450f7c72eca",
   "metadata": {},
   "source": [
    "Use your `lagos_air_quality_prep` function in a `for` loop to create a list named `frames`. The list should the cleaned DataFrames created from the CSV filenames your collected in `files`."
   ]
  },
  {
   "cell_type": "code",
   "execution_count": 61,
   "id": "3c57ada1-eb91-4ecb-b56f-8c2c4ad3c4b9",
   "metadata": {},
   "outputs": [],
   "source": [
    "dataframes = []\n",
    "for file in files:\n",
    "    df = lagos_air_quality_prep(file)\n",
    "    dataframes.append(df)"
   ]
  },
  {
   "cell_type": "code",
   "execution_count": 62,
   "id": "336b9599-6c8d-45b7-a814-5e40812e38ad",
   "metadata": {},
   "outputs": [],
   "source": [
    "for frame in dataframes:\n",
    "    dataframe.head()"
   ]
  },
  {
   "cell_type": "markdown",
   "id": "6765e011-5cd2-497b-9cc3-2e3deda0c2a0",
   "metadata": {},
   "source": [
    "Use [`pd.concat`](https://pandas.pydata.org/docs/reference/api/pandas.concat.html) to concatenate the items in `frames` into a single DataFrame `df`. Make sure you set the `ignore_index` argument to `True`."
   ]
  },
  {
   "cell_type": "code",
   "execution_count": 64,
   "id": "7fe22c04-b3a1-4c89-9c76-02b517f59e17",
   "metadata": {},
   "outputs": [
    {
     "data": {
      "text/html": [
       "<div>\n",
       "<style scoped>\n",
       "    .dataframe tbody tr th:only-of-type {\n",
       "        vertical-align: middle;\n",
       "    }\n",
       "\n",
       "    .dataframe tbody tr th {\n",
       "        vertical-align: top;\n",
       "    }\n",
       "\n",
       "    .dataframe thead th {\n",
       "        text-align: right;\n",
       "    }\n",
       "</style>\n",
       "<table border=\"1\" class=\"dataframe\">\n",
       "  <thead>\n",
       "    <tr style=\"text-align: right;\">\n",
       "      <th></th>\n",
       "      <th>sensor_id</th>\n",
       "      <th>sensor_type</th>\n",
       "      <th>location</th>\n",
       "      <th>lat</th>\n",
       "      <th>lon</th>\n",
       "      <th>timestamp</th>\n",
       "      <th>value_type</th>\n",
       "      <th>value</th>\n",
       "    </tr>\n",
       "  </thead>\n",
       "  <tbody>\n",
       "    <tr>\n",
       "      <th>0</th>\n",
       "      <td>4857</td>\n",
       "      <td>pms5003</td>\n",
       "      <td>3630</td>\n",
       "      <td>6.54</td>\n",
       "      <td>3.297</td>\n",
       "      <td>2023-12-01 05:32:46.225178+00:00</td>\n",
       "      <td>P2</td>\n",
       "      <td>45.7</td>\n",
       "    </tr>\n",
       "    <tr>\n",
       "      <th>1</th>\n",
       "      <td>4857</td>\n",
       "      <td>pms5003</td>\n",
       "      <td>3630</td>\n",
       "      <td>6.54</td>\n",
       "      <td>3.297</td>\n",
       "      <td>2023-12-01 05:32:46.225178+00:00</td>\n",
       "      <td>P1</td>\n",
       "      <td>56.2</td>\n",
       "    </tr>\n",
       "    <tr>\n",
       "      <th>2</th>\n",
       "      <td>4857</td>\n",
       "      <td>pms5003</td>\n",
       "      <td>3630</td>\n",
       "      <td>6.54</td>\n",
       "      <td>3.297</td>\n",
       "      <td>2023-12-01 05:32:46.225178+00:00</td>\n",
       "      <td>P0</td>\n",
       "      <td>31.1</td>\n",
       "    </tr>\n",
       "    <tr>\n",
       "      <th>3</th>\n",
       "      <td>4858</td>\n",
       "      <td>DHT22</td>\n",
       "      <td>3630</td>\n",
       "      <td>6.54</td>\n",
       "      <td>3.297</td>\n",
       "      <td>2023-12-01 05:33:00.284420+00:00</td>\n",
       "      <td>humidity</td>\n",
       "      <td>100.0</td>\n",
       "    </tr>\n",
       "    <tr>\n",
       "      <th>4</th>\n",
       "      <td>4858</td>\n",
       "      <td>DHT22</td>\n",
       "      <td>3630</td>\n",
       "      <td>6.54</td>\n",
       "      <td>3.297</td>\n",
       "      <td>2023-12-01 05:33:00.284420+00:00</td>\n",
       "      <td>temperature</td>\n",
       "      <td>26.3</td>\n",
       "    </tr>\n",
       "  </tbody>\n",
       "</table>\n",
       "</div>"
      ],
      "text/plain": [
       "   sensor_id sensor_type  location   lat    lon  \\\n",
       "0       4857     pms5003      3630  6.54  3.297   \n",
       "1       4857     pms5003      3630  6.54  3.297   \n",
       "2       4857     pms5003      3630  6.54  3.297   \n",
       "3       4858       DHT22      3630  6.54  3.297   \n",
       "4       4858       DHT22      3630  6.54  3.297   \n",
       "\n",
       "                         timestamp   value_type  value  \n",
       "0 2023-12-01 05:32:46.225178+00:00           P2   45.7  \n",
       "1 2023-12-01 05:32:46.225178+00:00           P1   56.2  \n",
       "2 2023-12-01 05:32:46.225178+00:00           P0   31.1  \n",
       "3 2023-12-01 05:33:00.284420+00:00     humidity  100.0  \n",
       "4 2023-12-01 05:33:00.284420+00:00  temperature   26.3  "
      ]
     },
     "execution_count": 64,
     "metadata": {},
     "output_type": "execute_result"
    }
   ],
   "source": [
    "df = pd.concat(dataframes, ignore_index=True)\n",
    "df.head()"
   ]
  },
  {
   "cell_type": "code",
   "execution_count": 65,
   "id": "8e75c609-25a1-484d-9de6-8f0ce263c4c5",
   "metadata": {},
   "outputs": [
    {
     "name": "stdout",
     "output_type": "stream",
     "text": [
      "<class 'pandas.core.frame.DataFrame'>\n",
      "RangeIndex: 168259 entries, 0 to 168258\n",
      "Data columns (total 8 columns):\n",
      " #   Column       Non-Null Count   Dtype              \n",
      "---  ------       --------------   -----              \n",
      " 0   sensor_id    168259 non-null  int32              \n",
      " 1   sensor_type  168259 non-null  object             \n",
      " 2   location     168259 non-null  int32              \n",
      " 3   lat          168259 non-null  float64            \n",
      " 4   lon          168259 non-null  float64            \n",
      " 5   timestamp    168259 non-null  datetime64[ns, UTC]\n",
      " 6   value_type   168259 non-null  object             \n",
      " 7   value        168259 non-null  float64            \n",
      "dtypes: datetime64[ns, UTC](1), float64(3), int32(2), object(2)\n",
      "memory usage: 9.0+ MB\n"
     ]
    }
   ],
   "source": [
    "df.info()"
   ]
  },
  {
   "cell_type": "code",
   "execution_count": null,
   "id": "8ea4b3dc-f246-472c-84ea-4ff876e5473d",
   "metadata": {},
   "outputs": [],
   "source": []
  }
 ],
 "metadata": {
  "kernelspec": {
   "display_name": "Python 3 (ipykernel)",
   "language": "python",
   "name": "python3"
  },
  "language_info": {
   "codemirror_mode": {
    "name": "ipython",
    "version": 3
   },
   "file_extension": ".py",
   "mimetype": "text/x-python",
   "name": "python",
   "nbconvert_exporter": "python",
   "pygments_lexer": "ipython3",
   "version": "3.12.4"
  }
 },
 "nbformat": 4,
 "nbformat_minor": 5
}
